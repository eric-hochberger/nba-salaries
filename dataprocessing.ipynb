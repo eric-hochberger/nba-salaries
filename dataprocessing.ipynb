{
 "cells": [
  {
   "cell_type": "code",
   "execution_count": null,
   "metadata": {},
   "outputs": [],
   "source": [
    "from basketball_reference_web_scraper import client\n",
    "import pandas as pd\n",
    "from bs4 import BeautifulSoup\n",
    "import re\n",
    "import requests\n",
    "import lxml.html as lh\n",
    "import numpy as np"
   ]
  },
  {
   "cell_type": "code",
   "execution_count": 17,
   "metadata": {},
   "outputs": [],
   "source": [
    "advanced_stats = client.players_advanced_season_totals(season_end_year=2019)\n",
    "\n",
    "normal_stats = client.players_season_totals(season_end_year=2018)\n",
    "\n",
    "testdf = pd.DataFrame(advanced_stats)"
   ]
  },
  {
   "cell_type": "code",
   "execution_count": 18,
   "metadata": {},
   "outputs": [],
   "source": [
    "testdf['minutes_played_total'] = testdf.groupby('name').minutes_played.transform('sum')\n",
    "testdf['proportion'] = testdf['minutes_played']/testdf['minutes_played_total']"
   ]
  },
  {
   "cell_type": "code",
   "execution_count": 19,
   "metadata": {},
   "outputs": [],
   "source": [
    "testdf['minutes_played_total'] = testdf.groupby('name').minutes_played.transform('sum')\n",
    "testdf['proportion'] = testdf['minutes_played']/testdf['minutes_played_total']\n",
    "\n",
    "num_cols = list(testdf.select_dtypes(include=['int', 'float64']))\n",
    "unwanted_num_cols = ['age', 'minutes_played', 'games_played']\n",
    "for col in unwanted_num_cols:\n",
    "    num_cols.remove(col)\n",
    "for col in num_cols:\n",
    "    testdf[col] = testdf[col]*testdf['proportion']\n",
    "testdf = testdf.groupby('name').agg('sum')\n",
    "\n",
    "player_counts = pd.DataFrame(testdf.groupby('name').size())"
   ]
  },
  {
   "cell_type": "code",
   "execution_count": null,
   "metadata": {},
   "outputs": [],
   "source": []
  }
 ],
 "metadata": {
  "language_info": {
   "codemirror_mode": {
    "name": "ipython",
    "version": 3
   },
   "file_extension": ".py",
   "mimetype": "text/x-python",
   "name": "python",
   "nbconvert_exporter": "python",
   "pygments_lexer": "ipython3",
   "version": "3.7.3-final"
  },
  "orig_nbformat": 2,
  "kernelspec": {
   "name": "python37364bitvenvvenvbcd3a7ae0261453dbcfb2b289cce21ad",
   "display_name": "Python 3.7.3 64-bit ('.venv': venv)"
  }
 },
 "nbformat": 4,
 "nbformat_minor": 2
}