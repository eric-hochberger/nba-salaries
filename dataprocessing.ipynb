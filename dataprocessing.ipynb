{
 "cells": [
  {
   "cell_type": "code",
   "execution_count": 11,
   "metadata": {},
   "outputs": [
    {
     "output_type": "error",
     "ename": "AttributeError",
     "evalue": "module 'pandas' has no attribute 'compat'",
     "traceback": [
      "\u001b[0;31m---------------------------------------------------------------------------\u001b[0m",
      "\u001b[0;31mAttributeError\u001b[0m                            Traceback (most recent call last)",
      "\u001b[0;32m<ipython-input-11-bce9ab3bb5f1>\u001b[0m in \u001b[0;36m<module>\u001b[0;34m\u001b[0m\n\u001b[1;32m      1\u001b[0m \u001b[0;32mfrom\u001b[0m \u001b[0mbasketball_reference_web_scraper\u001b[0m \u001b[0;32mimport\u001b[0m \u001b[0mclient\u001b[0m\u001b[0;34m\u001b[0m\u001b[0;34m\u001b[0m\u001b[0m\n\u001b[0;32m----> 2\u001b[0;31m \u001b[0;32mimport\u001b[0m \u001b[0mpandas\u001b[0m \u001b[0;32mas\u001b[0m \u001b[0mpd\u001b[0m\u001b[0;34m\u001b[0m\u001b[0;34m\u001b[0m\u001b[0m\n\u001b[0m\u001b[1;32m      3\u001b[0m \u001b[0;32mfrom\u001b[0m \u001b[0mbs4\u001b[0m \u001b[0;32mimport\u001b[0m \u001b[0mBeautifulSoup\u001b[0m\u001b[0;34m\u001b[0m\u001b[0;34m\u001b[0m\u001b[0m\n\u001b[1;32m      4\u001b[0m \u001b[0;32mimport\u001b[0m \u001b[0mre\u001b[0m\u001b[0;34m\u001b[0m\u001b[0;34m\u001b[0m\u001b[0m\n\u001b[1;32m      5\u001b[0m \u001b[0;32mimport\u001b[0m \u001b[0mrequests\u001b[0m\u001b[0;34m\u001b[0m\u001b[0;34m\u001b[0m\u001b[0m\n",
      "\u001b[0;32m~/Desktop/Stat_301_03_Final_Project/.venv/lib/python3.7/site-packages/pandas/__init__.py\u001b[0m in \u001b[0;36m<module>\u001b[0;34m\u001b[0m\n\u001b[1;32m    191\u001b[0m \u001b[0;31m# GH 27101\u001b[0m\u001b[0;34m\u001b[0m\u001b[0;34m\u001b[0m\u001b[0;34m\u001b[0m\u001b[0m\n\u001b[1;32m    192\u001b[0m \u001b[0;31m# TODO: remove Panel compat in 1.0\u001b[0m\u001b[0;34m\u001b[0m\u001b[0;34m\u001b[0m\u001b[0;34m\u001b[0m\u001b[0m\n\u001b[0;32m--> 193\u001b[0;31m \u001b[0;32mif\u001b[0m \u001b[0mpandas\u001b[0m\u001b[0;34m.\u001b[0m\u001b[0mcompat\u001b[0m\u001b[0;34m.\u001b[0m\u001b[0mPY37\u001b[0m\u001b[0;34m:\u001b[0m\u001b[0;34m\u001b[0m\u001b[0;34m\u001b[0m\u001b[0m\n\u001b[0m\u001b[1;32m    194\u001b[0m \u001b[0;34m\u001b[0m\u001b[0m\n\u001b[1;32m    195\u001b[0m     \u001b[0;32mdef\u001b[0m \u001b[0m__getattr__\u001b[0m\u001b[0;34m(\u001b[0m\u001b[0mname\u001b[0m\u001b[0;34m)\u001b[0m\u001b[0;34m:\u001b[0m\u001b[0;34m\u001b[0m\u001b[0;34m\u001b[0m\u001b[0m\n",
      "\u001b[0;31mAttributeError\u001b[0m: module 'pandas' has no attribute 'compat'"
     ]
    }
   ],
   "source": [
    "from basketball_reference_web_scraper import client\n",
    "import pandas as pd\n",
    "from bs4 import BeautifulSoup\n",
    "import re\n",
    "import requests\n",
    "import lxml.html as lh\n",
    "import numpy as np\n",
    "import unidecode\n"
   ]
  },
  {
   "cell_type": "code",
   "execution_count": 10,
   "metadata": {},
   "outputs": [
    {
     "output_type": "execute_result",
     "data": {
      "text/plain": "'/Users/erichochberger/Desktop/Stat_301_03_Final_Project/.venv/bin/python3'"
     },
     "metadata": {},
     "execution_count": 10
    }
   ],
   "source": [
    "sys.executable"
   ]
  },
  {
   "cell_type": "code",
   "execution_count": 14,
   "metadata": {},
   "outputs": [],
   "source": [
    "advanced_stats = client.players_advanced_season_totals(season_end_year=2019)\n",
    "\n",
    "normal_stats = client.players_season_totals(season_end_year=2018)\n",
    "\n",
    "testdf = pd.DataFrame(advanced_stats)"
   ]
  },
  {
   "cell_type": "code",
   "execution_count": 15,
   "metadata": {},
   "outputs": [],
   "source": [
    "testdf['minutes_played_total'] = testdf.groupby('name').minutes_played.transform('sum')\n",
    "testdf['proportion'] = testdf['minutes_played']/testdf['minutes_played_total']\n",
    "num_cols = list(testdf.select_dtypes(include=['int', 'float64']))\n",
    "unwanted_num_cols = ['age', 'minutes_played', 'games_played']\n",
    "for col in unwanted_num_cols:\n",
    "    num_cols.remove(col)\n",
    "for col in num_cols:\n",
    "    testdf[col] = testdf[col]*testdf['proportion']\n",
    "testdf = testdf.groupby('name').agg('sum')\n",
    "\n",
    "player_counts = pd.DataFrame(testdf.groupby('name').size())"
   ]
  },
  {
   "cell_type": "code",
   "execution_count": 39,
   "metadata": {},
   "outputs": [],
   "source": [
    "def clean_advanced(year):\n",
    "    advanced_stats = client.players_advanced_season_totals(season_end_year=year)\n",
    "    df = pd.DataFrame(advanced_stats)\n",
    "    # Handle quirk in data where traded players are represented as multiple observations\n",
    "    df['minutes_played_total'] = df.groupby('name').minutes_played.transform('sum')\n",
    "    df['proportion'] = df['minutes_played']/df['minutes_played_total']\n",
    "    num_cols = list(df.select_dtypes(include=['int', 'float64']))\n",
    "    unwanted_num_cols = ['age', 'minutes_played', 'games_played']\n",
    "    for col in unwanted_num_cols:\n",
    "        num_cols.remove(col)\n",
    "    for col in num_cols:\n",
    "        df[col] = df[col]*df['proportion']\n",
    "    df_grouped = df.groupby('name')[num_cols].agg('sum')\n",
    "    df_grouped['age'] = df.groupby('name')['age'].agg('mean')\n",
    "    df_grouped['year'] = year\n",
    "    return df_grouped\n",
    "def clean_basic(year):\n",
    "    basic_stats = client.players_season_totals(season_end_year=year)\n",
    "    df = pd.DataFrame(basic_stats)\n",
    "    df = df.groupby('name').agg('sum')\n",
    "    num_cols = list(df.select_dtypes(include=['int', 'float64']))\n",
    "    unwanted_num_cols = ['age', 'minutes_played', 'games_played', 'games_started']\n",
    "    for col in unwanted_num_cols:\n",
    "        num_cols.remove(col)\n",
    "    for col in num_cols:\n",
    "        df[col] = (df[col]/df['minutes_played'])*48\n",
    "    df['year'] = year\n",
    "    return df\n",
    "\n",
    "def ScrapePage(url):\n",
    "    r = requests.get(url)\n",
    "    # Get number of pages\n",
    "    soup = BeautifulSoup(r.content, features='html.parser')\n",
    "    page_total = soup.find(class_=\"page-numbers\").get_text()\n",
    "    page_total = re.sub('.*of', '', page_total).strip()\n",
    "    page_total = int(page_total)\n",
    "    r = requests.get(url)\n",
    "    doc = lh.fromstring(r.content)\n",
    "    tr_elements = doc.xpath('//tr')\n",
    "    # Create empty list\n",
    "    col = []\n",
    "    i = 0\n",
    "    # For each row, store each first element (header) and an empty list\n",
    "    for t in tr_elements[0]:\n",
    "        i += 1\n",
    "        name = t.text_content()\n",
    "        col.append((name, []))\n",
    "    for j in range(len(tr_elements)):\n",
    "        # T is our j'th row\n",
    "        T = tr_elements[j]\n",
    "        # i is the index of our column\n",
    "        i = 0\n",
    "        # Iterate through each element of the row\n",
    "        for t in T.iterchildren():\n",
    "            data = t.text_content()\n",
    "            # Check if row is empty\n",
    "            if i > 0:\n",
    "                # Convert any numerical value to integers\n",
    "                try:\n",
    "                    data = int(data)\n",
    "                except:\n",
    "                    pass\n",
    "            # Append the data to the empty list of the i'th column\n",
    "            col[i][1].append(data)\n",
    "            # Increment i for the next column\n",
    "            i += 1\n",
    "    dict = ({title: column for (title, column) in col})\n",
    "    return dict, page_total\n",
    "\n",
    "\n",
    "def GetSalaries(year):\n",
    "    df = []\n",
    "    dict = {}\n",
    "    url = 'http://www.espn.com/nba/salaries/_/year/' + year + '/'\n",
    "    data, page_total = ScrapePage(url)\n",
    "    df.append(pd.DataFrame(data))\n",
    "#Get Salary Data\n",
    "    for k in range(2,page_total + 1):\n",
    "        url = 'http://www.espn.com/nba/salaries/_/year/' + year + '/page/' + str(k)\n",
    "        Dict = ScrapePage(url)[0]\n",
    "        df.append(pd.DataFrame(Dict))\n",
    "    df = pd.concat(df)\n",
    "    df['year'] = int(year)\n",
    "    df = df[df['RK'] != \"RK\"]\n",
    "    df.reset_index(inplace=True, drop=True)\n",
    "    #Convert salary to numeric\n",
    "    for i in range(len(df)):\n",
    "        df.loc[i, 'name'] = re.sub(',.*', '', df['NAME'][i])\n",
    "        df.loc[i, 'salary'] = re.sub('\\$', '', df['SALARY'][i])\n",
    "        df.loc[i, 'salary'] = re.sub(',', '', df['salary'][i])\n",
    " #Get Rid of text rows\n",
    "        df['salary'] = pd.to_numeric(df['salary'])\n",
    "    return df\n"
   ]
  },
  {
   "cell_type": "code",
   "execution_count": 17,
   "metadata": {},
   "outputs": [],
   "source": [
    "#Get Player Statistics\n",
    "all_stats_2011_2020 = []\n",
    "for year in range(2011, 2020):\n",
    "    df = clean_advanced(year)\n",
    "    df1 = clean_basic(year)\n",
    "    stats = pd.merge(df, df1, how='inner', left_on=['name', 'age'] right_on=['name', 'age'])\n",
    "    all_stats_2011_2020.append(stats)\n",
    "all_stats_2011_2020 = pd.concat(all_stats_2011_2020)\n",
    "all_stats_2011_2020.isna().sum()\n",
    "\n",
    "# b_stats_2011_2020 = []\n",
    "# for year in range(2011, 2020):\n",
    "#     df = clean_basic(year)\n",
    "#     b_stats_2011_2020.append(df)\n",
    "# b_stats_2011_2020 = pd.concat(b_stats_2011_2020).reset_index()"
   ]
  },
  {
   "cell_type": "code",
   "execution_count": 52,
   "metadata": {},
   "outputs": [],
   "source": [
    "all_stats_2011_2020 = pd.concat([a_stats_2011_2020.reset_index(drop=True), b_stats_2011_2020.reset_index(drop=True)], axis=1)"
   ]
  },
  {
   "cell_type": "code",
   "execution_count": 40,
   "metadata": {},
   "outputs": [],
   "source": [
    "#Get Salaries\n",
    "salarydf = []\n",
    "for year in range(2011, 2020):\n",
    "    salarydf.append(GetSalaries(str(year)))\n"
   ]
  },
  {
   "cell_type": "code",
   "execution_count": 46,
   "metadata": {},
   "outputs": [
    {
     "output_type": "error",
     "ename": "TypeError",
     "evalue": "first argument must be an iterable of pandas objects, you passed an object of type \"DataFrame\"",
     "traceback": [
      "\u001b[0;31m---------------------------------------------------------------------------\u001b[0m",
      "\u001b[0;31mTypeError\u001b[0m                                 Traceback (most recent call last)",
      "\u001b[0;32m<ipython-input-46-7534f4ee4399>\u001b[0m in \u001b[0;36m<module>\u001b[0;34m\u001b[0m\n\u001b[0;32m----> 1\u001b[0;31m \u001b[0msalarydf\u001b[0m \u001b[0;34m=\u001b[0m \u001b[0mpd\u001b[0m\u001b[0;34m.\u001b[0m\u001b[0mconcat\u001b[0m\u001b[0;34m(\u001b[0m\u001b[0msalarydf\u001b[0m\u001b[0;34m)\u001b[0m\u001b[0;34m\u001b[0m\u001b[0;34m\u001b[0m\u001b[0m\n\u001b[0m\u001b[1;32m      2\u001b[0m \u001b[0msalarydf\u001b[0m \u001b[0;34m=\u001b[0m \u001b[0msalarydf\u001b[0m\u001b[0;34m.\u001b[0m\u001b[0mreset_index\u001b[0m\u001b[0;34m(\u001b[0m\u001b[0;34m)\u001b[0m\u001b[0;34m\u001b[0m\u001b[0;34m\u001b[0m\u001b[0m\n",
      "\u001b[0;32m~/Desktop/Stat_301_03_Final_Project/.venv/lib/python3.7/site-packages/pandas/core/reshape/concat.py\u001b[0m in \u001b[0;36mconcat\u001b[0;34m(objs, axis, join, ignore_index, keys, levels, names, verify_integrity, sort, copy)\u001b[0m\n\u001b[1;32m    279\u001b[0m         \u001b[0mverify_integrity\u001b[0m\u001b[0;34m=\u001b[0m\u001b[0mverify_integrity\u001b[0m\u001b[0;34m,\u001b[0m\u001b[0;34m\u001b[0m\u001b[0;34m\u001b[0m\u001b[0m\n\u001b[1;32m    280\u001b[0m         \u001b[0mcopy\u001b[0m\u001b[0;34m=\u001b[0m\u001b[0mcopy\u001b[0m\u001b[0;34m,\u001b[0m\u001b[0;34m\u001b[0m\u001b[0;34m\u001b[0m\u001b[0m\n\u001b[0;32m--> 281\u001b[0;31m         \u001b[0msort\u001b[0m\u001b[0;34m=\u001b[0m\u001b[0msort\u001b[0m\u001b[0;34m,\u001b[0m\u001b[0;34m\u001b[0m\u001b[0;34m\u001b[0m\u001b[0m\n\u001b[0m\u001b[1;32m    282\u001b[0m     )\n\u001b[1;32m    283\u001b[0m \u001b[0;34m\u001b[0m\u001b[0m\n",
      "\u001b[0;32m~/Desktop/Stat_301_03_Final_Project/.venv/lib/python3.7/site-packages/pandas/core/reshape/concat.py\u001b[0m in \u001b[0;36m__init__\u001b[0;34m(self, objs, axis, join, keys, levels, names, ignore_index, verify_integrity, copy, sort)\u001b[0m\n\u001b[1;32m    307\u001b[0m                 \u001b[0;34m\"first argument must be an iterable of pandas \"\u001b[0m\u001b[0;34m\u001b[0m\u001b[0;34m\u001b[0m\u001b[0m\n\u001b[1;32m    308\u001b[0m                 \u001b[0;34m\"objects, you passed an object of type \"\u001b[0m\u001b[0;34m\u001b[0m\u001b[0;34m\u001b[0m\u001b[0m\n\u001b[0;32m--> 309\u001b[0;31m                 \u001b[0;34m'\"{name}\"'\u001b[0m\u001b[0;34m.\u001b[0m\u001b[0mformat\u001b[0m\u001b[0;34m(\u001b[0m\u001b[0mname\u001b[0m\u001b[0;34m=\u001b[0m\u001b[0mtype\u001b[0m\u001b[0;34m(\u001b[0m\u001b[0mobjs\u001b[0m\u001b[0;34m)\u001b[0m\u001b[0;34m.\u001b[0m\u001b[0m__name__\u001b[0m\u001b[0;34m)\u001b[0m\u001b[0;34m\u001b[0m\u001b[0;34m\u001b[0m\u001b[0m\n\u001b[0m\u001b[1;32m    310\u001b[0m             )\n\u001b[1;32m    311\u001b[0m \u001b[0;34m\u001b[0m\u001b[0m\n",
      "\u001b[0;31mTypeError\u001b[0m: first argument must be an iterable of pandas objects, you passed an object of type \"DataFrame\""
     ]
    }
   ],
   "source": [
    "salarydf = pd.concat(salarydf)\n"
   ]
  },
  {
   "cell_type": "code",
   "execution_count": 47,
   "metadata": {},
   "outputs": [],
   "source": [
    "salarydf = salarydf.reset_index()"
   ]
  },
  {
   "cell_type": "code",
   "execution_count": 56,
   "metadata": {},
   "outputs": [],
   "source": [
    "for i in range(len(salarydf)):\n",
    "    salarydf['name'][i] = unidecode.unidecode(salarydf['name'][i])\n",
    "    salarydf['name'][i] = re.sub('\\*', '', salarydf['name'][i])\n",
    "    salarydf['name'][i] = re.sub('\\.', '', salarydf['name'][i])\n",
    "    salarydf['name'][i] = salarydf['name'][i].replace(\"'\", '')\n",
    "    salarydf['name'][i] = salarydf['name'][i].replace(\" \", '_').lower()\n"
   ]
  },
  {
   "cell_type": "code",
   "execution_count": 68,
   "metadata": {
    "tags": [
     "outputPrepend"
    ]
   },
   "outputs": [],
   "source": [
    "all_stats_2011_2020 = all_stats_2011_2020.reset_index()\n",
    "for i in range(len(all_stats_2011_2020)):\n",
    "    all_stats_2011_2020['name'][i] = str(all_stats_2011_2020['name'][i])\n",
    "    all_stats_2011_2020['name'][i] = unidecode.unidecode(all_stats_2011_2020['name'][i])\n",
    "    all_stats_2011_2020['name'][i] = re.sub('\\*', '', all_stats_2011_2020['name'][i])\n",
    "    all_stats_2011_2020['name'][i] = re.sub('\\.', '', all_stats_2011_2020['name'][i])\n",
    "    all_stats_2011_2020['name'][i] = all_stats_2011_2020['name'][i].replace(\"'\", '')\n",
    "    all_stats_2011_2020['name'][i] = all_stats_2011_2020['name'][i].replace(\" \", '_').lower()"
   ]
  },
  {
   "cell_type": "code",
   "execution_count": 69,
   "metadata": {},
   "outputs": [
    {
     "output_type": "execute_result",
     "data": {
      "text/plain": "   level_0  index           name  player_efficiency_rating  \\\n0        0      0     A.J. Price                 10.700000   \n1        1      1   Aaron Brooks                 13.136682   \n2        2      2     Aaron Gray                 11.000000   \n3        3      3       Acie Law                  9.888705   \n4        4      4  Al Harrington                 12.300000   \n\n   true_shooting_percentage  three_point_attempt_rate  \\\n0                  0.454000                  0.466000   \n1                  0.490050                  0.399425   \n2                  0.566000                  0.000000   \n3                  0.496264                  0.197609   \n4                  0.527000                  0.486000   \n\n   free_throw_attempt_rate  offensive_rebound_percentage  \\\n0                 0.253000                      2.300000   \n1                 0.240155                      1.757866   \n2                 0.343000                     13.400000   \n3                 0.349284                      1.884848   \n4                 0.173000                      5.400000   \n\n   defensive_rebound_percentage  total_rebound_percentage  ...  \\\n0                      7.800000                  5.000000  ...   \n1                      5.157944                  3.489486  ...   \n2                     25.800000                 19.600000  ...   \n3                      8.210744                  4.997796  ...   \n4                     17.200000                 11.500000  ...   \n\n   attempted_free_throws  offensive_rebounds  defensive_rebounds   assists  \\\n0               4.890566            0.966038            3.381132  6.701887   \n1               5.233645            0.747664            2.168224  8.710280   \n2               3.073446            5.333333           10.124294  1.446328   \n3               4.231405            0.793388            3.371901  5.553719   \n4               3.372973            2.190991            7.380180  2.911712   \n\n     steals    blocks  turnovers  personal_fouls     points  year  \n0  1.750943  0.060377   3.200000        3.683019  19.501887  2011  \n1  1.271028  0.112150   3.700935        4.299065  23.700935  2011  \n2  0.994350  1.084746   2.892655        8.677966  11.661017  2011  \n3  2.115702  0.000000   2.842975        4.033058  14.214876  2011  \n4  1.124324  0.288288   3.055856        5.823423  22.054054  2011  \n\n[5 rows x 46 columns]",
      "text/html": "<div>\n<style scoped>\n    .dataframe tbody tr th:only-of-type {\n        vertical-align: middle;\n    }\n\n    .dataframe tbody tr th {\n        vertical-align: top;\n    }\n\n    .dataframe thead th {\n        text-align: right;\n    }\n</style>\n<table border=\"1\" class=\"dataframe\">\n  <thead>\n    <tr style=\"text-align: right;\">\n      <th></th>\n      <th>level_0</th>\n      <th>index</th>\n      <th>name</th>\n      <th>player_efficiency_rating</th>\n      <th>true_shooting_percentage</th>\n      <th>three_point_attempt_rate</th>\n      <th>free_throw_attempt_rate</th>\n      <th>offensive_rebound_percentage</th>\n      <th>defensive_rebound_percentage</th>\n      <th>total_rebound_percentage</th>\n      <th>...</th>\n      <th>attempted_free_throws</th>\n      <th>offensive_rebounds</th>\n      <th>defensive_rebounds</th>\n      <th>assists</th>\n      <th>steals</th>\n      <th>blocks</th>\n      <th>turnovers</th>\n      <th>personal_fouls</th>\n      <th>points</th>\n      <th>year</th>\n    </tr>\n  </thead>\n  <tbody>\n    <tr>\n      <th>0</th>\n      <td>0</td>\n      <td>0</td>\n      <td>A.J. Price</td>\n      <td>10.700000</td>\n      <td>0.454000</td>\n      <td>0.466000</td>\n      <td>0.253000</td>\n      <td>2.300000</td>\n      <td>7.800000</td>\n      <td>5.000000</td>\n      <td>...</td>\n      <td>4.890566</td>\n      <td>0.966038</td>\n      <td>3.381132</td>\n      <td>6.701887</td>\n      <td>1.750943</td>\n      <td>0.060377</td>\n      <td>3.200000</td>\n      <td>3.683019</td>\n      <td>19.501887</td>\n      <td>2011</td>\n    </tr>\n    <tr>\n      <th>1</th>\n      <td>1</td>\n      <td>1</td>\n      <td>Aaron Brooks</td>\n      <td>13.136682</td>\n      <td>0.490050</td>\n      <td>0.399425</td>\n      <td>0.240155</td>\n      <td>1.757866</td>\n      <td>5.157944</td>\n      <td>3.489486</td>\n      <td>...</td>\n      <td>5.233645</td>\n      <td>0.747664</td>\n      <td>2.168224</td>\n      <td>8.710280</td>\n      <td>1.271028</td>\n      <td>0.112150</td>\n      <td>3.700935</td>\n      <td>4.299065</td>\n      <td>23.700935</td>\n      <td>2011</td>\n    </tr>\n    <tr>\n      <th>2</th>\n      <td>2</td>\n      <td>2</td>\n      <td>Aaron Gray</td>\n      <td>11.000000</td>\n      <td>0.566000</td>\n      <td>0.000000</td>\n      <td>0.343000</td>\n      <td>13.400000</td>\n      <td>25.800000</td>\n      <td>19.600000</td>\n      <td>...</td>\n      <td>3.073446</td>\n      <td>5.333333</td>\n      <td>10.124294</td>\n      <td>1.446328</td>\n      <td>0.994350</td>\n      <td>1.084746</td>\n      <td>2.892655</td>\n      <td>8.677966</td>\n      <td>11.661017</td>\n      <td>2011</td>\n    </tr>\n    <tr>\n      <th>3</th>\n      <td>3</td>\n      <td>3</td>\n      <td>Acie Law</td>\n      <td>9.888705</td>\n      <td>0.496264</td>\n      <td>0.197609</td>\n      <td>0.349284</td>\n      <td>1.884848</td>\n      <td>8.210744</td>\n      <td>4.997796</td>\n      <td>...</td>\n      <td>4.231405</td>\n      <td>0.793388</td>\n      <td>3.371901</td>\n      <td>5.553719</td>\n      <td>2.115702</td>\n      <td>0.000000</td>\n      <td>2.842975</td>\n      <td>4.033058</td>\n      <td>14.214876</td>\n      <td>2011</td>\n    </tr>\n    <tr>\n      <th>4</th>\n      <td>4</td>\n      <td>4</td>\n      <td>Al Harrington</td>\n      <td>12.300000</td>\n      <td>0.527000</td>\n      <td>0.486000</td>\n      <td>0.173000</td>\n      <td>5.400000</td>\n      <td>17.200000</td>\n      <td>11.500000</td>\n      <td>...</td>\n      <td>3.372973</td>\n      <td>2.190991</td>\n      <td>7.380180</td>\n      <td>2.911712</td>\n      <td>1.124324</td>\n      <td>0.288288</td>\n      <td>3.055856</td>\n      <td>5.823423</td>\n      <td>22.054054</td>\n      <td>2011</td>\n    </tr>\n  </tbody>\n</table>\n<p>5 rows × 46 columns</p>\n</div>"
     },
     "metadata": {},
     "execution_count": 69
    }
   ],
   "source": [
    "all_stats_2011_2020.head()"
   ]
  }
 ],
 "metadata": {
  "language_info": {
   "codemirror_mode": {
    "name": "ipython",
    "version": 3
   },
   "file_extension": ".py",
   "mimetype": "text/x-python",
   "name": "python",
   "nbconvert_exporter": "python",
   "pygments_lexer": "ipython3",
   "version": "3.7.3-final"
  },
  "orig_nbformat": 2,
  "kernelspec": {
   "name": "python37364bitvenvvenvbcd3a7ae0261453dbcfb2b289cce21ad",
   "display_name": "Python 3.7.3 64-bit ('.venv': venv)"
  }
 },
 "nbformat": 4,
 "nbformat_minor": 2
}